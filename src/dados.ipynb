{
 "cells": [
  {
   "cell_type": "code",
   "execution_count": 2,
   "metadata": {},
   "outputs": [],
   "source": [
    "import matplotlib.pyplot as plt\n",
    "from importlib import reload\n",
    "from services.suicide_ui_service import model"
   ]
  },
  {
   "cell_type": "markdown",
   "metadata": {},
   "source": [
    "# Lesões autoprovocadas intencionalmente"
   ]
  },
  {
   "cell_type": "markdown",
   "metadata": {},
   "source": [
    "## Descrição de todos os métodos"
   ]
  },
  {
   "cell_type": "code",
   "execution_count": 70,
   "metadata": {},
   "outputs": [
    {
     "data": {
      "text/html": [
       "<style  type=\"text/css\" >\n",
       "    #T_6f169c64_f5d0_11e8_9c33_80a589e795b6row0_col0 {\n",
       "            text-align:  left;\n",
       "        }    #T_6f169c64_f5d0_11e8_9c33_80a589e795b6row0_col1 {\n",
       "            text-align:  left;\n",
       "        }    #T_6f169c64_f5d0_11e8_9c33_80a589e795b6row1_col0 {\n",
       "            text-align:  left;\n",
       "        }    #T_6f169c64_f5d0_11e8_9c33_80a589e795b6row1_col1 {\n",
       "            text-align:  left;\n",
       "        }    #T_6f169c64_f5d0_11e8_9c33_80a589e795b6row2_col0 {\n",
       "            text-align:  left;\n",
       "        }    #T_6f169c64_f5d0_11e8_9c33_80a589e795b6row2_col1 {\n",
       "            text-align:  left;\n",
       "        }    #T_6f169c64_f5d0_11e8_9c33_80a589e795b6row3_col0 {\n",
       "            text-align:  left;\n",
       "        }    #T_6f169c64_f5d0_11e8_9c33_80a589e795b6row3_col1 {\n",
       "            text-align:  left;\n",
       "        }    #T_6f169c64_f5d0_11e8_9c33_80a589e795b6row4_col0 {\n",
       "            text-align:  left;\n",
       "        }    #T_6f169c64_f5d0_11e8_9c33_80a589e795b6row4_col1 {\n",
       "            text-align:  left;\n",
       "        }    #T_6f169c64_f5d0_11e8_9c33_80a589e795b6row5_col0 {\n",
       "            text-align:  left;\n",
       "        }    #T_6f169c64_f5d0_11e8_9c33_80a589e795b6row5_col1 {\n",
       "            text-align:  left;\n",
       "        }    #T_6f169c64_f5d0_11e8_9c33_80a589e795b6row6_col0 {\n",
       "            text-align:  left;\n",
       "        }    #T_6f169c64_f5d0_11e8_9c33_80a589e795b6row6_col1 {\n",
       "            text-align:  left;\n",
       "        }    #T_6f169c64_f5d0_11e8_9c33_80a589e795b6row7_col0 {\n",
       "            text-align:  left;\n",
       "        }    #T_6f169c64_f5d0_11e8_9c33_80a589e795b6row7_col1 {\n",
       "            text-align:  left;\n",
       "        }    #T_6f169c64_f5d0_11e8_9c33_80a589e795b6row8_col0 {\n",
       "            text-align:  left;\n",
       "        }    #T_6f169c64_f5d0_11e8_9c33_80a589e795b6row8_col1 {\n",
       "            text-align:  left;\n",
       "        }    #T_6f169c64_f5d0_11e8_9c33_80a589e795b6row9_col0 {\n",
       "            text-align:  left;\n",
       "        }    #T_6f169c64_f5d0_11e8_9c33_80a589e795b6row9_col1 {\n",
       "            text-align:  left;\n",
       "        }    #T_6f169c64_f5d0_11e8_9c33_80a589e795b6row10_col0 {\n",
       "            text-align:  left;\n",
       "        }    #T_6f169c64_f5d0_11e8_9c33_80a589e795b6row10_col1 {\n",
       "            text-align:  left;\n",
       "        }    #T_6f169c64_f5d0_11e8_9c33_80a589e795b6row11_col0 {\n",
       "            text-align:  left;\n",
       "        }    #T_6f169c64_f5d0_11e8_9c33_80a589e795b6row11_col1 {\n",
       "            text-align:  left;\n",
       "        }    #T_6f169c64_f5d0_11e8_9c33_80a589e795b6row12_col0 {\n",
       "            text-align:  left;\n",
       "        }    #T_6f169c64_f5d0_11e8_9c33_80a589e795b6row12_col1 {\n",
       "            text-align:  left;\n",
       "        }    #T_6f169c64_f5d0_11e8_9c33_80a589e795b6row13_col0 {\n",
       "            text-align:  left;\n",
       "        }    #T_6f169c64_f5d0_11e8_9c33_80a589e795b6row13_col1 {\n",
       "            text-align:  left;\n",
       "        }    #T_6f169c64_f5d0_11e8_9c33_80a589e795b6row14_col0 {\n",
       "            text-align:  left;\n",
       "        }    #T_6f169c64_f5d0_11e8_9c33_80a589e795b6row14_col1 {\n",
       "            text-align:  left;\n",
       "        }    #T_6f169c64_f5d0_11e8_9c33_80a589e795b6row15_col0 {\n",
       "            text-align:  left;\n",
       "        }    #T_6f169c64_f5d0_11e8_9c33_80a589e795b6row15_col1 {\n",
       "            text-align:  left;\n",
       "        }    #T_6f169c64_f5d0_11e8_9c33_80a589e795b6row16_col0 {\n",
       "            text-align:  left;\n",
       "        }    #T_6f169c64_f5d0_11e8_9c33_80a589e795b6row16_col1 {\n",
       "            text-align:  left;\n",
       "        }    #T_6f169c64_f5d0_11e8_9c33_80a589e795b6row17_col0 {\n",
       "            text-align:  left;\n",
       "        }    #T_6f169c64_f5d0_11e8_9c33_80a589e795b6row17_col1 {\n",
       "            text-align:  left;\n",
       "        }    #T_6f169c64_f5d0_11e8_9c33_80a589e795b6row18_col0 {\n",
       "            text-align:  left;\n",
       "        }    #T_6f169c64_f5d0_11e8_9c33_80a589e795b6row18_col1 {\n",
       "            text-align:  left;\n",
       "        }    #T_6f169c64_f5d0_11e8_9c33_80a589e795b6row19_col0 {\n",
       "            text-align:  left;\n",
       "        }    #T_6f169c64_f5d0_11e8_9c33_80a589e795b6row19_col1 {\n",
       "            text-align:  left;\n",
       "        }    #T_6f169c64_f5d0_11e8_9c33_80a589e795b6row20_col0 {\n",
       "            text-align:  left;\n",
       "        }    #T_6f169c64_f5d0_11e8_9c33_80a589e795b6row20_col1 {\n",
       "            text-align:  left;\n",
       "        }    #T_6f169c64_f5d0_11e8_9c33_80a589e795b6row21_col0 {\n",
       "            text-align:  left;\n",
       "        }    #T_6f169c64_f5d0_11e8_9c33_80a589e795b6row21_col1 {\n",
       "            text-align:  left;\n",
       "        }    #T_6f169c64_f5d0_11e8_9c33_80a589e795b6row22_col0 {\n",
       "            text-align:  left;\n",
       "        }    #T_6f169c64_f5d0_11e8_9c33_80a589e795b6row22_col1 {\n",
       "            text-align:  left;\n",
       "        }    #T_6f169c64_f5d0_11e8_9c33_80a589e795b6row23_col0 {\n",
       "            text-align:  left;\n",
       "        }    #T_6f169c64_f5d0_11e8_9c33_80a589e795b6row23_col1 {\n",
       "            text-align:  left;\n",
       "        }    #T_6f169c64_f5d0_11e8_9c33_80a589e795b6row24_col0 {\n",
       "            text-align:  left;\n",
       "        }    #T_6f169c64_f5d0_11e8_9c33_80a589e795b6row24_col1 {\n",
       "            text-align:  left;\n",
       "        }</style>  \n",
       "<table id=\"T_6f169c64_f5d0_11e8_9c33_80a589e795b6\" > \n",
       "<thead>    <tr> \n",
       "        <th class=\"blank level0\" ></th> \n",
       "        <th class=\"col_heading level0 col0\" >Legenda</th> \n",
       "        <th class=\"col_heading level0 col1\" >Descrição</th> \n",
       "    </tr></thead> \n",
       "<tbody>    <tr> \n",
       "        <th id=\"T_6f169c64_f5d0_11e8_9c33_80a589e795b6level0_row0\" class=\"row_heading level0 row0\" >0</th> \n",
       "        <td id=\"T_6f169c64_f5d0_11e8_9c33_80a589e795b6row0_col0\" class=\"data row0 col0\" >X 60</td> \n",
       "        <td id=\"T_6f169c64_f5d0_11e8_9c33_80a589e795b6row0_col1\" class=\"data row0 col1\" >Analgésicos, antipiréticos e anti-reumáticos</td> \n",
       "    </tr>    <tr> \n",
       "        <th id=\"T_6f169c64_f5d0_11e8_9c33_80a589e795b6level0_row1\" class=\"row_heading level0 row1\" >1</th> \n",
       "        <td id=\"T_6f169c64_f5d0_11e8_9c33_80a589e795b6row1_col0\" class=\"data row1 col0\" >X 61</td> \n",
       "        <td id=\"T_6f169c64_f5d0_11e8_9c33_80a589e795b6row1_col1\" class=\"data row1 col1\" >Drogas anticonvulsivantes, sedativos, hipnóticos, antiparkinsonianos e psicotrópicos</td> \n",
       "    </tr>    <tr> \n",
       "        <th id=\"T_6f169c64_f5d0_11e8_9c33_80a589e795b6level0_row2\" class=\"row_heading level0 row2\" >2</th> \n",
       "        <td id=\"T_6f169c64_f5d0_11e8_9c33_80a589e795b6row2_col0\" class=\"data row2 col0\" >X 62</td> \n",
       "        <td id=\"T_6f169c64_f5d0_11e8_9c33_80a589e795b6row2_col1\" class=\"data row2 col1\" >Narcóticos e psicodislépticos</td> \n",
       "    </tr>    <tr> \n",
       "        <th id=\"T_6f169c64_f5d0_11e8_9c33_80a589e795b6level0_row3\" class=\"row_heading level0 row3\" >3</th> \n",
       "        <td id=\"T_6f169c64_f5d0_11e8_9c33_80a589e795b6row3_col0\" class=\"data row3 col0\" >X 63</td> \n",
       "        <td id=\"T_6f169c64_f5d0_11e8_9c33_80a589e795b6row3_col1\" class=\"data row3 col1\" >Outras substâncias farmacológicas de ação sobre o sistema nervoso autônomo</td> \n",
       "    </tr>    <tr> \n",
       "        <th id=\"T_6f169c64_f5d0_11e8_9c33_80a589e795b6level0_row4\" class=\"row_heading level0 row4\" >4</th> \n",
       "        <td id=\"T_6f169c64_f5d0_11e8_9c33_80a589e795b6row4_col0\" class=\"data row4 col0\" >X 64</td> \n",
       "        <td id=\"T_6f169c64_f5d0_11e8_9c33_80a589e795b6row4_col1\" class=\"data row4 col1\" >Outras drogas, medicamentos e substâncias biológicas e às não especificadas</td> \n",
       "    </tr>    <tr> \n",
       "        <th id=\"T_6f169c64_f5d0_11e8_9c33_80a589e795b6level0_row5\" class=\"row_heading level0 row5\" >5</th> \n",
       "        <td id=\"T_6f169c64_f5d0_11e8_9c33_80a589e795b6row5_col0\" class=\"data row5 col0\" >X 65</td> \n",
       "        <td id=\"T_6f169c64_f5d0_11e8_9c33_80a589e795b6row5_col1\" class=\"data row5 col1\" >Voluntária por álcool</td> \n",
       "    </tr>    <tr> \n",
       "        <th id=\"T_6f169c64_f5d0_11e8_9c33_80a589e795b6level0_row6\" class=\"row_heading level0 row6\" >6</th> \n",
       "        <td id=\"T_6f169c64_f5d0_11e8_9c33_80a589e795b6row6_col0\" class=\"data row6 col0\" >X 66</td> \n",
       "        <td id=\"T_6f169c64_f5d0_11e8_9c33_80a589e795b6row6_col1\" class=\"data row6 col1\" >Solventes orgânicos, hidrocarbonetos halogenados e seus vapores</td> \n",
       "    </tr>    <tr> \n",
       "        <th id=\"T_6f169c64_f5d0_11e8_9c33_80a589e795b6level0_row7\" class=\"row_heading level0 row7\" >7</th> \n",
       "        <td id=\"T_6f169c64_f5d0_11e8_9c33_80a589e795b6row7_col0\" class=\"data row7 col0\" >X 67</td> \n",
       "        <td id=\"T_6f169c64_f5d0_11e8_9c33_80a589e795b6row7_col1\" class=\"data row7 col1\" >Outros gases e vapores</td> \n",
       "    </tr>    <tr> \n",
       "        <th id=\"T_6f169c64_f5d0_11e8_9c33_80a589e795b6level0_row8\" class=\"row_heading level0 row8\" >8</th> \n",
       "        <td id=\"T_6f169c64_f5d0_11e8_9c33_80a589e795b6row8_col0\" class=\"data row8 col0\" >X 68</td> \n",
       "        <td id=\"T_6f169c64_f5d0_11e8_9c33_80a589e795b6row8_col1\" class=\"data row8 col1\" >Pesticidas</td> \n",
       "    </tr>    <tr> \n",
       "        <th id=\"T_6f169c64_f5d0_11e8_9c33_80a589e795b6level0_row9\" class=\"row_heading level0 row9\" >9</th> \n",
       "        <td id=\"T_6f169c64_f5d0_11e8_9c33_80a589e795b6row9_col0\" class=\"data row9 col0\" >X 69</td> \n",
       "        <td id=\"T_6f169c64_f5d0_11e8_9c33_80a589e795b6row9_col1\" class=\"data row9 col1\" >Outros produtos químicos e substâncias nocivas não especificadas</td> \n",
       "    </tr>    <tr> \n",
       "        <th id=\"T_6f169c64_f5d0_11e8_9c33_80a589e795b6level0_row10\" class=\"row_heading level0 row10\" >10</th> \n",
       "        <td id=\"T_6f169c64_f5d0_11e8_9c33_80a589e795b6row10_col0\" class=\"data row10 col0\" >X 70</td> \n",
       "        <td id=\"T_6f169c64_f5d0_11e8_9c33_80a589e795b6row10_col1\" class=\"data row10 col1\" >Enforcamento, estrangulamento e sufocação</td> \n",
       "    </tr>    <tr> \n",
       "        <th id=\"T_6f169c64_f5d0_11e8_9c33_80a589e795b6level0_row11\" class=\"row_heading level0 row11\" >11</th> \n",
       "        <td id=\"T_6f169c64_f5d0_11e8_9c33_80a589e795b6row11_col0\" class=\"data row11 col0\" >X 71</td> \n",
       "        <td id=\"T_6f169c64_f5d0_11e8_9c33_80a589e795b6row11_col1\" class=\"data row11 col1\" >Afogamento e submersão</td> \n",
       "    </tr>    <tr> \n",
       "        <th id=\"T_6f169c64_f5d0_11e8_9c33_80a589e795b6level0_row12\" class=\"row_heading level0 row12\" >12</th> \n",
       "        <td id=\"T_6f169c64_f5d0_11e8_9c33_80a589e795b6row12_col0\" class=\"data row12 col0\" >X 72</td> \n",
       "        <td id=\"T_6f169c64_f5d0_11e8_9c33_80a589e795b6row12_col1\" class=\"data row12 col1\" >Disparo de arma de fogo de mão</td> \n",
       "    </tr>    <tr> \n",
       "        <th id=\"T_6f169c64_f5d0_11e8_9c33_80a589e795b6level0_row13\" class=\"row_heading level0 row13\" >13</th> \n",
       "        <td id=\"T_6f169c64_f5d0_11e8_9c33_80a589e795b6row13_col0\" class=\"data row13 col0\" >X 73</td> \n",
       "        <td id=\"T_6f169c64_f5d0_11e8_9c33_80a589e795b6row13_col1\" class=\"data row13 col1\" >Disparo de espingarda, carabina, ou arma de fogo de maior calibre</td> \n",
       "    </tr>    <tr> \n",
       "        <th id=\"T_6f169c64_f5d0_11e8_9c33_80a589e795b6level0_row14\" class=\"row_heading level0 row14\" >14</th> \n",
       "        <td id=\"T_6f169c64_f5d0_11e8_9c33_80a589e795b6row14_col0\" class=\"data row14 col0\" >X 74</td> \n",
       "        <td id=\"T_6f169c64_f5d0_11e8_9c33_80a589e795b6row14_col1\" class=\"data row14 col1\" >Disparo de outra arma de fogo e de arma de fogo não especificada</td> \n",
       "    </tr>    <tr> \n",
       "        <th id=\"T_6f169c64_f5d0_11e8_9c33_80a589e795b6level0_row15\" class=\"row_heading level0 row15\" >15</th> \n",
       "        <td id=\"T_6f169c64_f5d0_11e8_9c33_80a589e795b6row15_col0\" class=\"data row15 col0\" >X 75</td> \n",
       "        <td id=\"T_6f169c64_f5d0_11e8_9c33_80a589e795b6row15_col1\" class=\"data row15 col1\" >Dispositivos explosivos</td> \n",
       "    </tr>    <tr> \n",
       "        <th id=\"T_6f169c64_f5d0_11e8_9c33_80a589e795b6level0_row16\" class=\"row_heading level0 row16\" >16</th> \n",
       "        <td id=\"T_6f169c64_f5d0_11e8_9c33_80a589e795b6row16_col0\" class=\"data row16 col0\" >X 76</td> \n",
       "        <td id=\"T_6f169c64_f5d0_11e8_9c33_80a589e795b6row16_col1\" class=\"data row16 col1\" >Fumaça, fogo e chamas</td> \n",
       "    </tr>    <tr> \n",
       "        <th id=\"T_6f169c64_f5d0_11e8_9c33_80a589e795b6level0_row17\" class=\"row_heading level0 row17\" >17</th> \n",
       "        <td id=\"T_6f169c64_f5d0_11e8_9c33_80a589e795b6row17_col0\" class=\"data row17 col0\" >X 77</td> \n",
       "        <td id=\"T_6f169c64_f5d0_11e8_9c33_80a589e795b6row17_col1\" class=\"data row17 col1\" >Vapor de água, gases ou objetos quentes</td> \n",
       "    </tr>    <tr> \n",
       "        <th id=\"T_6f169c64_f5d0_11e8_9c33_80a589e795b6level0_row18\" class=\"row_heading level0 row18\" >18</th> \n",
       "        <td id=\"T_6f169c64_f5d0_11e8_9c33_80a589e795b6row18_col0\" class=\"data row18 col0\" >X 78</td> \n",
       "        <td id=\"T_6f169c64_f5d0_11e8_9c33_80a589e795b6row18_col1\" class=\"data row18 col1\" >Objeto cortante ou penetrante</td> \n",
       "    </tr>    <tr> \n",
       "        <th id=\"T_6f169c64_f5d0_11e8_9c33_80a589e795b6level0_row19\" class=\"row_heading level0 row19\" >19</th> \n",
       "        <td id=\"T_6f169c64_f5d0_11e8_9c33_80a589e795b6row19_col0\" class=\"data row19 col0\" >X 79</td> \n",
       "        <td id=\"T_6f169c64_f5d0_11e8_9c33_80a589e795b6row19_col1\" class=\"data row19 col1\" >Objeto contundente</td> \n",
       "    </tr>    <tr> \n",
       "        <th id=\"T_6f169c64_f5d0_11e8_9c33_80a589e795b6level0_row20\" class=\"row_heading level0 row20\" >20</th> \n",
       "        <td id=\"T_6f169c64_f5d0_11e8_9c33_80a589e795b6row20_col0\" class=\"data row20 col0\" >X 80</td> \n",
       "        <td id=\"T_6f169c64_f5d0_11e8_9c33_80a589e795b6row20_col1\" class=\"data row20 col1\" >Precipitação de um lugar elevado</td> \n",
       "    </tr>    <tr> \n",
       "        <th id=\"T_6f169c64_f5d0_11e8_9c33_80a589e795b6level0_row21\" class=\"row_heading level0 row21\" >21</th> \n",
       "        <td id=\"T_6f169c64_f5d0_11e8_9c33_80a589e795b6row21_col0\" class=\"data row21 col0\" >X 81</td> \n",
       "        <td id=\"T_6f169c64_f5d0_11e8_9c33_80a589e795b6row21_col1\" class=\"data row21 col1\" >Precipitação ou permanência diante de um objeto em movimento</td> \n",
       "    </tr>    <tr> \n",
       "        <th id=\"T_6f169c64_f5d0_11e8_9c33_80a589e795b6level0_row22\" class=\"row_heading level0 row22\" >22</th> \n",
       "        <td id=\"T_6f169c64_f5d0_11e8_9c33_80a589e795b6row22_col0\" class=\"data row22 col0\" >X 82</td> \n",
       "        <td id=\"T_6f169c64_f5d0_11e8_9c33_80a589e795b6row22_col1\" class=\"data row22 col1\" >Impacto de um veículo a motor</td> \n",
       "    </tr>    <tr> \n",
       "        <th id=\"T_6f169c64_f5d0_11e8_9c33_80a589e795b6level0_row23\" class=\"row_heading level0 row23\" >23</th> \n",
       "        <td id=\"T_6f169c64_f5d0_11e8_9c33_80a589e795b6row23_col0\" class=\"data row23 col0\" >X 83</td> \n",
       "        <td id=\"T_6f169c64_f5d0_11e8_9c33_80a589e795b6row23_col1\" class=\"data row23 col1\" >Outros meios especificados</td> \n",
       "    </tr>    <tr> \n",
       "        <th id=\"T_6f169c64_f5d0_11e8_9c33_80a589e795b6level0_row24\" class=\"row_heading level0 row24\" >24</th> \n",
       "        <td id=\"T_6f169c64_f5d0_11e8_9c33_80a589e795b6row24_col0\" class=\"data row24 col0\" >X 84</td> \n",
       "        <td id=\"T_6f169c64_f5d0_11e8_9c33_80a589e795b6row24_col1\" class=\"data row24 col1\" >Meios não especificados</td> \n",
       "    </tr></tbody> \n",
       "</table> "
      ],
      "text/plain": [
       "<pandas.io.formats.style.Styler at 0x15ac030>"
      ]
     },
     "execution_count": 70,
     "metadata": {},
     "output_type": "execute_result"
    }
   ],
   "source": [
    "reload(model)\n",
    "service = model.SuicideUiService()\n",
    "service.get_description_x60_x84()"
   ]
  },
  {
   "cell_type": "markdown",
   "metadata": {},
   "source": [
    "## Método mais utilizado"
   ]
  },
  {
   "cell_type": "code",
   "execution_count": 94,
   "metadata": {
    "scrolled": true
   },
   "outputs": [
    {
     "data": {
      "image/png": "[encoded data removed]",
      "text/plain": [
       "<Figure size 432x288 with 1 Axes>"
      ]
     },
     "metadata": {
      "needs_background": "light"
     },
     "output_type": "display_data"
    }
   ],
   "source": [
    "reload(model)\n",
    "service = model.SuicideUiService()\n",
    "service.get_most_used_method()\n",
    "plt.show()"
   ]
  },
  {
   "cell_type": "markdown",
   "metadata": {},
   "source": [
    "## Ano com o maior indice utilizando X70"
   ]
  },
  {
   "cell_type": "code",
   "execution_count": 13,
   "metadata": {
    "scrolled": true
   },
   "outputs": [
    {
     "data": {
      "text/plain": [
       "<matplotlib.axes._subplots.AxesSubplot at 0xd342930>"
      ]
     },
     "execution_count": 13,
     "metadata": {},
     "output_type": "execute_result"
    },
    {
     "data": {
      "image/png": "[encoded data removed]",
      "text/plain": [
       "<Figure size 432x288 with 1 Axes>"
      ]
     },
     "metadata": {
      "needs_background": "light"
     },
     "output_type": "display_data"
    }
   ],
   "source": [
    "reload(model)\n",
    "service = model.SuicideUiService()\n",
    "service.get_year_with_higher_x70()"
   ]
  },
  {
   "cell_type": "markdown",
   "metadata": {},
   "source": [
    "## Sexo com maior indice utilizando X70 no ano de 2015"
   ]
  },
  {
   "cell_type": "code",
   "execution_count": 64,
   "metadata": {},
   "outputs": [
    {
     "name": "stderr",
     "output_type": "stream",
     "text": [
      "No handles with labels found to put in legend.\n",
      "No handles with labels found to put in legend.\n"
     ]
    },
    {
     "data": {
      "text/plain": [
       "array([<matplotlib.axes._subplots.AxesSubplot object at 0x0DDCF6F0>,\n",
       "       <matplotlib.axes._subplots.AxesSubplot object at 0x0DDEFDF0>],\n",
       "      dtype=object)"
      ]
     },
     "execution_count": 64,
     "metadata": {},
     "output_type": "execute_result"
    },
    {
     "data": {
      "image/png": "[encoded data removed]",
      "text/plain": [
       "<Figure size 432x288 with 2 Axes>"
      ]
     },
     "metadata": {},
     "output_type": "display_data"
    }
   ],
   "source": [
    "reload(model)\n",
    "service = model.SuicideUiService()\n",
    "service.get_sex_with_highest_index_using_x70_in_2015()"
   ]
  },
  {
   "cell_type": "markdown",
   "metadata": {},
   "source": [
    "## Faixa etária X70 no ano de 2015"
   ]
  },
  {
   "cell_type": "code",
   "execution_count": 12,
   "metadata": {},
   "outputs": [
    {
     "data": {
      "image/png": "[encoded data removed]",
      "text/plain": [
       "<Figure size 432x288 with 1 Axes>"
      ]
     },
     "metadata": {
      "needs_background": "light"
     },
     "output_type": "display_data"
    }
   ],
   "source": [
    "reload(model)\n",
    "service = model.SuicideUiService()\n",
    "service.get_age_range_x70_in_2015()\n",
    "plt.show()"
   ]
  }
 ],
 "metadata": {
  "kernelspec": {
   "display_name": "Python 3",
   "language": "python",
   "name": "python3"
  },
  "language_info": {
   "codemirror_mode": {
    "name": "ipython",
    "version": 3
   },
   "file_extension": ".py",
   "mimetype": "text/x-python",
   "name": "python",
   "nbconvert_exporter": "python",
   "pygments_lexer": "ipython3",
   "version": "3.7.1"
  }
 },
 "nbformat": 4,
 "nbformat_minor": 2
}
