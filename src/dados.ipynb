{
 "cells": [
  {
   "cell_type": "code",
   "execution_count": 44,
   "metadata": {},
   "outputs": [],
   "source": [
    "import matplotlib.pyplot as plt\n",
    "from importlib import reload\n",
    "from services.suicide_ui_service import model"
   ]
  },
  {
   "cell_type": "markdown",
   "metadata": {},
   "source": [
    "# Lesões autoprovocadas intencionalmente"
   ]
  },
  {
   "cell_type": "markdown",
   "metadata": {},
   "source": [
    "## Ano com o maior indice"
   ]
  },
  {
   "cell_type": "code",
   "execution_count": 3,
   "metadata": {
    "scrolled": true
   },
   "outputs": [
    {
     "data": {
      "image/png": "[encoded data removed]",
      "text/plain": [
       "<Figure size 432x288 with 1 Axes>"
      ]
     },
     "metadata": {
      "needs_background": "light"
     },
     "output_type": "display_data"
    }
   ],
   "source": [
    "reload(model)\n",
    "service = model.SuicideUiService()\n",
    "service.get_year_with_higher_index()\n",
    "plt.show()"
   ]
  },
  {
   "cell_type": "markdown",
   "metadata": {},
   "source": [
    "## Descrição de todos os métodos"
   ]
  },
  {
   "cell_type": "code",
   "execution_count": 68,
   "metadata": {},
   "outputs": [
    {
     "data": {
      "text/html": [
       "<style  type=\"text/css\" >\n",
       "    #T_50e7f640_f5d0_11e8_a225_80a589e795b6row0_col0 {\n",
       "            text-align:  left;\n",
       "        }    #T_50e7f640_f5d0_11e8_a225_80a589e795b6row1_col0 {\n",
       "            text-align:  left;\n",
       "        }    #T_50e7f640_f5d0_11e8_a225_80a589e795b6row2_col0 {\n",
       "            text-align:  left;\n",
       "        }    #T_50e7f640_f5d0_11e8_a225_80a589e795b6row3_col0 {\n",
       "            text-align:  left;\n",
       "        }    #T_50e7f640_f5d0_11e8_a225_80a589e795b6row4_col0 {\n",
       "            text-align:  left;\n",
       "        }    #T_50e7f640_f5d0_11e8_a225_80a589e795b6row5_col0 {\n",
       "            text-align:  left;\n",
       "        }    #T_50e7f640_f5d0_11e8_a225_80a589e795b6row6_col0 {\n",
       "            text-align:  left;\n",
       "        }    #T_50e7f640_f5d0_11e8_a225_80a589e795b6row7_col0 {\n",
       "            text-align:  left;\n",
       "        }    #T_50e7f640_f5d0_11e8_a225_80a589e795b6row8_col0 {\n",
       "            text-align:  left;\n",
       "        }    #T_50e7f640_f5d0_11e8_a225_80a589e795b6row9_col0 {\n",
       "            text-align:  left;\n",
       "        }    #T_50e7f640_f5d0_11e8_a225_80a589e795b6row10_col0 {\n",
       "            text-align:  left;\n",
       "        }    #T_50e7f640_f5d0_11e8_a225_80a589e795b6row11_col0 {\n",
       "            text-align:  left;\n",
       "        }    #T_50e7f640_f5d0_11e8_a225_80a589e795b6row12_col0 {\n",
       "            text-align:  left;\n",
       "        }    #T_50e7f640_f5d0_11e8_a225_80a589e795b6row13_col0 {\n",
       "            text-align:  left;\n",
       "        }    #T_50e7f640_f5d0_11e8_a225_80a589e795b6row14_col0 {\n",
       "            text-align:  left;\n",
       "        }    #T_50e7f640_f5d0_11e8_a225_80a589e795b6row15_col0 {\n",
       "            text-align:  left;\n",
       "        }    #T_50e7f640_f5d0_11e8_a225_80a589e795b6row16_col0 {\n",
       "            text-align:  left;\n",
       "        }    #T_50e7f640_f5d0_11e8_a225_80a589e795b6row17_col0 {\n",
       "            text-align:  left;\n",
       "        }    #T_50e7f640_f5d0_11e8_a225_80a589e795b6row18_col0 {\n",
       "            text-align:  left;\n",
       "        }    #T_50e7f640_f5d0_11e8_a225_80a589e795b6row19_col0 {\n",
       "            text-align:  left;\n",
       "        }    #T_50e7f640_f5d0_11e8_a225_80a589e795b6row20_col0 {\n",
       "            text-align:  left;\n",
       "        }    #T_50e7f640_f5d0_11e8_a225_80a589e795b6row21_col0 {\n",
       "            text-align:  left;\n",
       "        }    #T_50e7f640_f5d0_11e8_a225_80a589e795b6row22_col0 {\n",
       "            text-align:  left;\n",
       "        }    #T_50e7f640_f5d0_11e8_a225_80a589e795b6row23_col0 {\n",
       "            text-align:  left;\n",
       "        }    #T_50e7f640_f5d0_11e8_a225_80a589e795b6row24_col0 {\n",
       "            text-align:  left;\n",
       "        }</style>  \n",
       "<table id=\"T_50e7f640_f5d0_11e8_a225_80a589e795b6\" > \n",
       "<thead>    <tr> \n",
       "        <th class=\"blank level0\" ></th> \n",
       "        <th class=\"col_heading level0 col0\" >Descrição</th> \n",
       "    </tr>    <tr> \n",
       "        <th class=\"index_name level0\" >Legenda</th> \n",
       "        <th class=\"blank\" ></th> \n",
       "    </tr></thead> \n",
       "<tbody>    <tr> \n",
       "        <th id=\"T_50e7f640_f5d0_11e8_a225_80a589e795b6level0_row0\" class=\"row_heading level0 row0\" >X 60</th> \n",
       "        <td id=\"T_50e7f640_f5d0_11e8_a225_80a589e795b6row0_col0\" class=\"data row0 col0\" >Analgésicos, antipiréticos e anti-reumáticos</td> \n",
       "    </tr>    <tr> \n",
       "        <th id=\"T_50e7f640_f5d0_11e8_a225_80a589e795b6level0_row1\" class=\"row_heading level0 row1\" >X 61</th> \n",
       "        <td id=\"T_50e7f640_f5d0_11e8_a225_80a589e795b6row1_col0\" class=\"data row1 col0\" >Drogas anticonvulsivantes, sedativos, hipnóticos, antiparkinsonianos e psicotrópicos</td> \n",
       "    </tr>    <tr> \n",
       "        <th id=\"T_50e7f640_f5d0_11e8_a225_80a589e795b6level0_row2\" class=\"row_heading level0 row2\" >X 62</th> \n",
       "        <td id=\"T_50e7f640_f5d0_11e8_a225_80a589e795b6row2_col0\" class=\"data row2 col0\" >Narcóticos e psicodislépticos</td> \n",
       "    </tr>    <tr> \n",
       "        <th id=\"T_50e7f640_f5d0_11e8_a225_80a589e795b6level0_row3\" class=\"row_heading level0 row3\" >X 63</th> \n",
       "        <td id=\"T_50e7f640_f5d0_11e8_a225_80a589e795b6row3_col0\" class=\"data row3 col0\" >Outras substâncias farmacológicas de ação sobre o sistema nervoso autônomo</td> \n",
       "    </tr>    <tr> \n",
       "        <th id=\"T_50e7f640_f5d0_11e8_a225_80a589e795b6level0_row4\" class=\"row_heading level0 row4\" >X 64</th> \n",
       "        <td id=\"T_50e7f640_f5d0_11e8_a225_80a589e795b6row4_col0\" class=\"data row4 col0\" >Outras drogas, medicamentos e substâncias biológicas e às não especificadas</td> \n",
       "    </tr>    <tr> \n",
       "        <th id=\"T_50e7f640_f5d0_11e8_a225_80a589e795b6level0_row5\" class=\"row_heading level0 row5\" >X 65</th> \n",
       "        <td id=\"T_50e7f640_f5d0_11e8_a225_80a589e795b6row5_col0\" class=\"data row5 col0\" >Voluntária por álcool</td> \n",
       "    </tr>    <tr> \n",
       "        <th id=\"T_50e7f640_f5d0_11e8_a225_80a589e795b6level0_row6\" class=\"row_heading level0 row6\" >X 66</th> \n",
       "        <td id=\"T_50e7f640_f5d0_11e8_a225_80a589e795b6row6_col0\" class=\"data row6 col0\" >Solventes orgânicos, hidrocarbonetos halogenados e seus vapores</td> \n",
       "    </tr>    <tr> \n",
       "        <th id=\"T_50e7f640_f5d0_11e8_a225_80a589e795b6level0_row7\" class=\"row_heading level0 row7\" >X 67</th> \n",
       "        <td id=\"T_50e7f640_f5d0_11e8_a225_80a589e795b6row7_col0\" class=\"data row7 col0\" >Outros gases e vapores</td> \n",
       "    </tr>    <tr> \n",
       "        <th id=\"T_50e7f640_f5d0_11e8_a225_80a589e795b6level0_row8\" class=\"row_heading level0 row8\" >X 68</th> \n",
       "        <td id=\"T_50e7f640_f5d0_11e8_a225_80a589e795b6row8_col0\" class=\"data row8 col0\" >Pesticidas</td> \n",
       "    </tr>    <tr> \n",
       "        <th id=\"T_50e7f640_f5d0_11e8_a225_80a589e795b6level0_row9\" class=\"row_heading level0 row9\" >X 69</th> \n",
       "        <td id=\"T_50e7f640_f5d0_11e8_a225_80a589e795b6row9_col0\" class=\"data row9 col0\" >Outros produtos químicos e substâncias nocivas não especificadas</td> \n",
       "    </tr>    <tr> \n",
       "        <th id=\"T_50e7f640_f5d0_11e8_a225_80a589e795b6level0_row10\" class=\"row_heading level0 row10\" >X 70</th> \n",
       "        <td id=\"T_50e7f640_f5d0_11e8_a225_80a589e795b6row10_col0\" class=\"data row10 col0\" >Enforcamento, estrangulamento e sufocação</td> \n",
       "    </tr>    <tr> \n",
       "        <th id=\"T_50e7f640_f5d0_11e8_a225_80a589e795b6level0_row11\" class=\"row_heading level0 row11\" >X 71</th> \n",
       "        <td id=\"T_50e7f640_f5d0_11e8_a225_80a589e795b6row11_col0\" class=\"data row11 col0\" >Afogamento e submersão</td> \n",
       "    </tr>    <tr> \n",
       "        <th id=\"T_50e7f640_f5d0_11e8_a225_80a589e795b6level0_row12\" class=\"row_heading level0 row12\" >X 72</th> \n",
       "        <td id=\"T_50e7f640_f5d0_11e8_a225_80a589e795b6row12_col0\" class=\"data row12 col0\" >Disparo de arma de fogo de mão</td> \n",
       "    </tr>    <tr> \n",
       "        <th id=\"T_50e7f640_f5d0_11e8_a225_80a589e795b6level0_row13\" class=\"row_heading level0 row13\" >X 73</th> \n",
       "        <td id=\"T_50e7f640_f5d0_11e8_a225_80a589e795b6row13_col0\" class=\"data row13 col0\" >Disparo de espingarda, carabina, ou arma de fogo de maior calibre</td> \n",
       "    </tr>    <tr> \n",
       "        <th id=\"T_50e7f640_f5d0_11e8_a225_80a589e795b6level0_row14\" class=\"row_heading level0 row14\" >X 74</th> \n",
       "        <td id=\"T_50e7f640_f5d0_11e8_a225_80a589e795b6row14_col0\" class=\"data row14 col0\" >Disparo de outra arma de fogo e de arma de fogo não especificada</td> \n",
       "    </tr>    <tr> \n",
       "        <th id=\"T_50e7f640_f5d0_11e8_a225_80a589e795b6level0_row15\" class=\"row_heading level0 row15\" >X 75</th> \n",
       "        <td id=\"T_50e7f640_f5d0_11e8_a225_80a589e795b6row15_col0\" class=\"data row15 col0\" >Dispositivos explosivos</td> \n",
       "    </tr>    <tr> \n",
       "        <th id=\"T_50e7f640_f5d0_11e8_a225_80a589e795b6level0_row16\" class=\"row_heading level0 row16\" >X 76</th> \n",
       "        <td id=\"T_50e7f640_f5d0_11e8_a225_80a589e795b6row16_col0\" class=\"data row16 col0\" >Fumaça, fogo e chamas</td> \n",
       "    </tr>    <tr> \n",
       "        <th id=\"T_50e7f640_f5d0_11e8_a225_80a589e795b6level0_row17\" class=\"row_heading level0 row17\" >X 77</th> \n",
       "        <td id=\"T_50e7f640_f5d0_11e8_a225_80a589e795b6row17_col0\" class=\"data row17 col0\" >Vapor de água, gases ou objetos quentes</td> \n",
       "    </tr>    <tr> \n",
       "        <th id=\"T_50e7f640_f5d0_11e8_a225_80a589e795b6level0_row18\" class=\"row_heading level0 row18\" >X 78</th> \n",
       "        <td id=\"T_50e7f640_f5d0_11e8_a225_80a589e795b6row18_col0\" class=\"data row18 col0\" >Objeto cortante ou penetrante</td> \n",
       "    </tr>    <tr> \n",
       "        <th id=\"T_50e7f640_f5d0_11e8_a225_80a589e795b6level0_row19\" class=\"row_heading level0 row19\" >X 79</th> \n",
       "        <td id=\"T_50e7f640_f5d0_11e8_a225_80a589e795b6row19_col0\" class=\"data row19 col0\" >Objeto contundente</td> \n",
       "    </tr>    <tr> \n",
       "        <th id=\"T_50e7f640_f5d0_11e8_a225_80a589e795b6level0_row20\" class=\"row_heading level0 row20\" >X 80</th> \n",
       "        <td id=\"T_50e7f640_f5d0_11e8_a225_80a589e795b6row20_col0\" class=\"data row20 col0\" >Precipitação de um lugar elevado</td> \n",
       "    </tr>    <tr> \n",
       "        <th id=\"T_50e7f640_f5d0_11e8_a225_80a589e795b6level0_row21\" class=\"row_heading level0 row21\" >X 81</th> \n",
       "        <td id=\"T_50e7f640_f5d0_11e8_a225_80a589e795b6row21_col0\" class=\"data row21 col0\" >Precipitação ou permanência diante de um objeto em movimento</td> \n",
       "    </tr>    <tr> \n",
       "        <th id=\"T_50e7f640_f5d0_11e8_a225_80a589e795b6level0_row22\" class=\"row_heading level0 row22\" >X 82</th> \n",
       "        <td id=\"T_50e7f640_f5d0_11e8_a225_80a589e795b6row22_col0\" class=\"data row22 col0\" >Impacto de um veículo a motor</td> \n",
       "    </tr>    <tr> \n",
       "        <th id=\"T_50e7f640_f5d0_11e8_a225_80a589e795b6level0_row23\" class=\"row_heading level0 row23\" >X 83</th> \n",
       "        <td id=\"T_50e7f640_f5d0_11e8_a225_80a589e795b6row23_col0\" class=\"data row23 col0\" >Outros meios especificados</td> \n",
       "    </tr>    <tr> \n",
       "        <th id=\"T_50e7f640_f5d0_11e8_a225_80a589e795b6level0_row24\" class=\"row_heading level0 row24\" >X 84</th> \n",
       "        <td id=\"T_50e7f640_f5d0_11e8_a225_80a589e795b6row24_col0\" class=\"data row24 col0\" >Meios não especificados</td> \n",
       "    </tr></tbody> \n",
       "</table> "
      ],
      "text/plain": [
       "<pandas.io.formats.style.Styler at 0x15766d0>"
      ]
     },
     "execution_count": 68,
     "metadata": {},
     "output_type": "execute_result"
    }
   ],
   "source": [
    "reload(model)\n",
    "service = model.SuicideUiService()\n",
    "service.get_description_x60_x84()"
   ]
  },
  {
   "cell_type": "markdown",
   "metadata": {},
   "source": [
    "## Método mais utilizado em 2015"
   ]
  },
  {
   "cell_type": "code",
   "execution_count": 29,
   "metadata": {},
   "outputs": [
    {
     "data": {
      "image/png": "[encoded data removed]",
      "text/plain": [
       "<Figure size 432x288 with 1 Axes>"
      ]
     },
     "metadata": {
      "needs_background": "light"
     },
     "output_type": "display_data"
    }
   ],
   "source": [
    "reload(model)\n",
    "service = model.SuicideUiService()\n",
    "service.get_most_used_method_in_2015()\n",
    "plt.show()"
   ]
  },
  {
   "cell_type": "markdown",
   "metadata": {},
   "source": [
    "## Sexo com maior indice utilizando X70 no ano de 2015"
   ]
  },
  {
   "cell_type": "code",
   "execution_count": 4,
   "metadata": {},
   "outputs": [
    {
     "data": {
      "image/png": "[encoded data removed]",
      "text/plain": [
       "<Figure size 432x288 with 1 Axes>"
      ]
     },
     "metadata": {
      "needs_background": "light"
     },
     "output_type": "display_data"
    }
   ],
   "source": [
    "reload(model)\n",
    "service = model.SuicideUiService()\n",
    "service.get_sex_with_highest_index_using_x70_in_2015()\n",
    "plt.show()"
   ]
  }
 ],
 "metadata": {
  "kernelspec": {
   "display_name": "Python 3",
   "language": "python",
   "name": "python3"
  },
  "language_info": {
   "codemirror_mode": {
    "name": "ipython",
    "version": 3
   },
   "file_extension": ".py",
   "mimetype": "text/x-python",
   "name": "python",
   "nbconvert_exporter": "python",
   "pygments_lexer": "ipython3",
   "version": "3.7.1"
  }
 },
 "nbformat": 4,
 "nbformat_minor": 2
}
