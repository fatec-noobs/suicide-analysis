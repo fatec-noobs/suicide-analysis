{
 "cells": [
  {
   "cell_type": "code",
   "execution_count": 1,
   "metadata": {},
   "outputs": [
    {
     "ename": "ModuleNotFoundError",
     "evalue": "No module named 'services'",
     "output_type": "error",
     "traceback": [
      "\u001b[0;31m---------------------------------------------------------------------------\u001b[0m",
      "\u001b[0;31mModuleNotFoundError\u001b[0m                       Traceback (most recent call last)",
      "\u001b[0;32m<ipython-input-1-f38da29e6b34>\u001b[0m in \u001b[0;36m<module>\u001b[0;34m()\u001b[0m\n\u001b[0;32m----> 1\u001b[0;31m \u001b[0;32mfrom\u001b[0m \u001b[0mservices\u001b[0m\u001b[0;34m.\u001b[0m\u001b[0msuicide_ui_service\u001b[0m \u001b[0;32mimport\u001b[0m \u001b[0mmodel\u001b[0m\u001b[0;34m\u001b[0m\u001b[0;34m\u001b[0m\u001b[0m\n\u001b[0m\u001b[1;32m      2\u001b[0m \u001b[0;34m\u001b[0m\u001b[0m\n\u001b[1;32m      3\u001b[0m \u001b[0mservice\u001b[0m \u001b[0;34m=\u001b[0m \u001b[0mmodel\u001b[0m\u001b[0;34m.\u001b[0m\u001b[0mSuicideUiService\u001b[0m\u001b[0;34m(\u001b[0m\u001b[0;34m)\u001b[0m\u001b[0;34m\u001b[0m\u001b[0;34m\u001b[0m\u001b[0m\n",
      "\u001b[0;31mModuleNotFoundError\u001b[0m: No module named 'services'"
     ]
    }
   ],
   "source": [
    "from src.services.suicide_ui_service import model\n",
    "\n",
    "service = model.SuicideUiService()"
   ]
  },
  {
   "cell_type": "markdown",
   "metadata": {},
   "source": [
    "# Lesões autoprovocadas intencionalmente\n",
    "\n",
    "*lesões ou envenenamento auto-infligidos intencionalmente, suicídio*"
   ]
  },
  {
   "cell_type": "markdown",
   "metadata": {},
   "source": [
    "## Descrição de todos os métodos\n",
    "\n",
    "O código desse tema vai de **X60-X84**, logo a baixo uma breve descrição sobre cada um.\n",
    "\n",
    "Para mais informações sobre cada tema [acesse aqui](http://www.datasus.gov.br/cid10/V2008/WebHelp/x60_x84.htm)"
   ]
  },
  {
   "cell_type": "code",
   "execution_count": null,
   "metadata": {},
   "outputs": [],
   "source": [
    "service.get_description_x60_x84()"
   ]
  },
  {
   "cell_type": "markdown",
   "metadata": {},
   "source": [
    "## Método mais utilizado\n",
    "\n",
    "Análisando sobre a quantidade de suicídios por métodos, conseguimos ver que **Enforcamento, estrangulamento e sufocação** é disparado o caso mais comum de **1996 a 2016**"
   ]
  },
  {
   "cell_type": "code",
   "execution_count": null,
   "metadata": {
    "scrolled": true
   },
   "outputs": [],
   "source": [
    "service.get_most_used_method()"
   ]
  },
  {
   "cell_type": "markdown",
   "metadata": {},
   "source": [
    "## Ano com o maior indice utilizando X70\n",
    "\n",
    "Ja sabemos que o principal método é o **X70**. Vamos agora ver em qual ano de **1996 a 2016** esse método foi mais utilizado.\n",
    "\n",
    "Análisando o gráfico conseguimos notas que a quantidade de suicídios utilizando esse método vem aumentando, e que em **2015** foi o ano em que mais ocorreu."
   ]
  },
  {
   "cell_type": "code",
   "execution_count": null,
   "metadata": {
    "scrolled": true
   },
   "outputs": [],
   "source": [
    "service.get_year_with_higher_x70()"
   ]
  },
  {
   "cell_type": "markdown",
   "metadata": {},
   "source": [
    "## Sexo com maior indice utilizando X70 no ano de 2015\n",
    "\n",
    "Dentro do ano de **2015** utilizando o método **X70**, conseguimos ver no gráfico a baixo se esses acontecimentos são mais comuns em homens ou mulheres."
   ]
  },
  {
   "cell_type": "code",
   "execution_count": null,
   "metadata": {},
   "outputs": [],
   "source": [
    "service.get_sex_with_highest_index_using_x70_in_2015()"
   ]
  },
  {
   "cell_type": "markdown",
   "metadata": {},
   "source": [
    "## Faixa etária X70 no ano de 2015\n",
    "\n",
    "Sabendo que esses casos são mais comuns em homens, podemos ver também qual é a principal faixa etária em que esse acontecimento ocorre nos homens."
   ]
  },
  {
   "cell_type": "code",
   "execution_count": null,
   "metadata": {},
   "outputs": [],
   "source": [
    "service.get_age_range_x70_in_2015()"
   ]
  }
 ],
 "metadata": {
  "kernelspec": {
   "display_name": "Python 3",
   "language": "python",
   "name": "python3"
  },
  "language_info": {
   "codemirror_mode": {
    "name": "ipython",
    "version": 3
   },
   "file_extension": ".py",
   "mimetype": "text/x-python",
   "name": "python",
   "nbconvert_exporter": "python",
   "pygments_lexer": "ipython3",
   "version": "3.7.1"
  }
 },
 "nbformat": 4,
 "nbformat_minor": 2
}
